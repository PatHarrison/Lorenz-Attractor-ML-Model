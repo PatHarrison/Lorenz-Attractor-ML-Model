{
 "cells": [
  {
   "cell_type": "markdown",
   "id": "73caac5f-dd01-4dfc-8dc2-5085f27611ab",
   "metadata": {},
   "source": [
    "# The Lorenz Attractor"
   ]
  },
  {
   "cell_type": "markdown",
   "id": "5f94759b-c0cb-41ea-9aed-780263378414",
   "metadata": {},
   "source": [
    "### Predicting Trajectory/Shape"
   ]
  },
  {
   "cell_type": "markdown",
   "id": "0b1685c4-f25d-4563-b213-4f6a2257ce81",
   "metadata": {},
   "source": [
    "Attempt to use the Keras API to create a RNN to predict the shape of the model based of a known trajectory. Train the model to be more generalized with different initial starting conditions. We will not use a stateful model, as the batches are chosen to be large enough that states are independent from any previous states not in batch. See the auto correlation in the Exploring The Lorenz Attractor notebook."
   ]
  },
  {
   "cell_type": "code",
   "execution_count": 1,
   "id": "4eb78fe6-bf68-4f78-a0c8-ea4e158b594f",
   "metadata": {},
   "outputs": [
    {
     "name": "stderr",
     "output_type": "stream",
     "text": [
      "C:\\Users\\Patrick\\Anaconda3\\envs\\Lorenz\\lib\\site-packages\\h5py\\__init__.py:36: FutureWarning: Conversion of the second argument of issubdtype from `float` to `np.floating` is deprecated. In future, it will be treated as `np.float64 == np.dtype(float).type`.\n",
      "  from ._conv import register_converters as _register_converters\n",
      "Using TensorFlow backend.\n"
     ]
    }
   ],
   "source": [
    "import tensorflow as tf\n",
    "from tensorflow import keras\n",
    "from tensorflow.keras.preprocessing.sequence import TimeseriesGenerator\n",
    "from tensorflow.keras.models import Model, Sequential\n",
    "from tensorflow.keras.layers import Input, Dense, LSTM, Dropout\n",
    "from tensorflow.keras import metrics\n",
    "from tensorflow.keras import losses, backend\n",
    "\n",
    "import matplotlib.pyplot as plt\n",
    "from mpl_toolkits.mplot3d import Axes3D\n",
    "from matplotlib.gridspec import GridSpec\n",
    "\n",
    "plt.style.use(\"astro\")\n",
    "\n",
    "import numpy as np\n",
    "from tqdm import tqdm\n",
    "from tqdm.keras import TqdmCallback\n",
    "\n",
    "from Lorenz import LorenzAttractor"
   ]
  },
  {
   "cell_type": "markdown",
   "id": "ccc1805e-b2c2-4712-9af8-875e9c74da33",
   "metadata": {},
   "source": [
    "### Creating the data"
   ]
  },
  {
   "cell_type": "code",
   "execution_count": 2,
   "id": "eb9de701-44b7-49f4-9fe5-b8560d66ca01",
   "metadata": {},
   "outputs": [],
   "source": [
    "# Set up Lorenz attractor shape and initial parameters\n",
    "INITIALSTATE = (1.0, 1.0, 1.0)\n",
    "SIGMA = 10.0\n",
    "BETA = 8/3.0\n",
    "RHO = 28.0\n",
    "\n",
    "# Set integration time sequence for solveing\n",
    "tStart = 0.0\n",
    "tEnd = 30.0\n",
    "dt = 0.001\n",
    "\n",
    "t = np.arange(tStart, tEnd, dt)\n",
    "n = len(t)"
   ]
  },
  {
   "cell_type": "code",
   "execution_count": 3,
   "id": "a6629e65-66e9-4a55-961e-564fbcc34b14",
   "metadata": {},
   "outputs": [],
   "source": [
    "\"\"\" create the dataset\"\"\"\n",
    "LA = LorenzAttractor(t, INITIALSTATE, SIGMA, BETA, RHO)\n",
    "X, Y, Z = LA.get_states()"
   ]
  },
  {
   "cell_type": "markdown",
   "id": "ef45c9eb-f9bc-4575-a10f-7e4bea846e23",
   "metadata": {},
   "source": [
    "### Data Preprocessing"
   ]
  },
  {
   "cell_type": "code",
   "execution_count": 4,
   "id": "89b78557-9631-4a20-b6d6-07917f109cb5",
   "metadata": {},
   "outputs": [
    {
     "name": "stdout",
     "output_type": "stream",
     "text": [
      "(30000, 3)\n"
     ]
    }
   ],
   "source": [
    "TrainingAttractor = np.array([X, Y, Z]).T\n",
    "print(TrainingAttractor.shape)"
   ]
  },
  {
   "cell_type": "markdown",
   "id": "8ae9c421-5513-4976-b31c-ecb83e944b48",
   "metadata": {},
   "source": [
    "Need train and validation data to be in shape `[samples, timesteps, features]`. One sequence is one sample, a batch is comprised of one or more samples, one time step is one point of observation in the sample,  and one feature is one observation at a time step. lets take samples of 100 time steps or 3 features (X, Y, Z sates).\n",
    "\n",
    "``` [samples, timesteps, features] = [..., 100, 3] ```"
   ]
  },
  {
   "cell_type": "code",
   "execution_count": 5,
   "id": "dc939829-0324-4435-adb9-c98a71b63679",
   "metadata": {},
   "outputs": [],
   "source": [
    "lookback = 100 # time steps in sample\n",
    "trainSize = int(len(TrainingAttractor)*0.75) # 75% of data set"
   ]
  },
  {
   "cell_type": "markdown",
   "id": "6da51237-8713-4898-916e-1ab31f2a23a9",
   "metadata": {},
   "source": [
    "Make a number of samples where there is 100 time steps and the target state is the first timestep of the next state in the sequence."
   ]
  },
  {
   "cell_type": "code",
   "execution_count": 6,
   "id": "f5145a0d-6acb-49aa-b267-bf6c2a2fd899",
   "metadata": {},
   "outputs": [
    {
     "name": "stdout",
     "output_type": "stream",
     "text": [
      "(29900, 100, 3)\n"
     ]
    }
   ],
   "source": [
    "# creating rolling timesteps with jump=1\n",
    "rollingSamples = []\n",
    "for i in range(len(TrainingAttractor)-lookback):\n",
    "    rollingSamples.append(np.array(TrainingAttractor[i:lookback+i]))\n",
    "\n",
    "rollingSamples = np.array(rollingSamples) # make numpy array\n",
    "print(rollingSamples.shape)"
   ]
  },
  {
   "cell_type": "markdown",
   "id": "344ffbb6-0d50-441b-b650-5b636b9f9fb1",
   "metadata": {},
   "source": [
    "Uneven lookback and target for the number of computed timesteps in the TrainingAttractor, thus the 29900 batches instead of the full 30000."
   ]
  },
  {
   "cell_type": "code",
   "execution_count": 7,
   "id": "ce74d6b5-98b3-4b73-8828-bf57cafc0420",
   "metadata": {},
   "outputs": [
    {
     "name": "stdout",
     "output_type": "stream",
     "text": [
      "[1.00012952 1.02598902 0.99834858]\n",
      "[1.00012952 1.02598902 0.99834858]\n"
     ]
    }
   ],
   "source": [
    "# check rolling timestep batches by 1\n",
    "print(rollingSamples[0][1])\n",
    "print(rollingSamples[1][0])"
   ]
  },
  {
   "cell_type": "code",
   "execution_count": 8,
   "id": "751ab4f5-649e-4077-b4ee-98db772155c1",
   "metadata": {},
   "outputs": [
    {
     "name": "stdout",
     "output_type": "stream",
     "text": [
      "Training set input:  (22400, 100, 3)\n",
      "Training set output:  (22400, 3)\n",
      "Validation set input:  (7300, 100, 3)\n",
      "Validation set output:  (7300, 3)\n"
     ]
    }
   ],
   "source": [
    "# define training and validation sets\n",
    "\n",
    "trainInput = rollingSamples[:trainSize]\n",
    "trainOutput = np.array([state for state in trainInput[lookback:,0,:]])\n",
    "\n",
    "\n",
    "valInput = rollingSamples[trainSize:]\n",
    "valOutput = np.array([state for state in valInput[lookback:,0,:]])\n",
    "\n",
    "trainInput, valInput = trainInput[:-lookback], valInput[:-lookback] # remove last sample (won't have known outputs)\n",
    "\n",
    "# input_shape = (samples, timesteps, dim)\n",
    "print(\"Training set input: \", trainInput.shape)\n",
    "print(\"Training set output: \",trainOutput.shape)\n",
    "print(\"Validation set input: \",valInput.shape)\n",
    "print(\"Validation set output: \",valOutput.shape)"
   ]
  },
  {
   "cell_type": "code",
   "execution_count": 9,
   "id": "60a8d625-8d5c-4f1e-8fb3-5ed88a468d03",
   "metadata": {},
   "outputs": [
    {
     "name": "stdout",
     "output_type": "stream",
     "text": [
      "(22400,)\n",
      "(22400, 3)\n"
     ]
    },
    {
     "data": {
      "text/plain": [
       "<matplotlib.collections.PathCollection at 0x1d40254e080>"
      ]
     },
     "execution_count": 9,
     "metadata": {},
     "output_type": "execute_result"
    },
    {
     "data": {
      "image/png": "[encoded data removed]",
      "text/plain": [
       "<Figure size 640x480 with 1 Axes>"
      ]
     },
     "metadata": {},
     "output_type": "display_data"
    }
   ],
   "source": [
    "x = np.arange(100, len(trainOutput)*100+100, 100)\n",
    "print(x.shape)\n",
    "print(trainOutput.shape)\n",
    "\n",
    "plt.plot(trainInput[0,:,0], \"k-\") # sample\n",
    "plt.scatter([100], trainOutput[0,0], s=25, c=\"r\") # target"
   ]
  },
  {
   "cell_type": "markdown",
   "id": "e5bc92a9-23ec-472e-9f88-dcb0c3bdca0f",
   "metadata": {},
   "source": [
    "Looking at how the target data is formed the model may have trouble getting out to extreme points/peaks as the targets are not always on the peaks.\n",
    "\n",
    "This would take some looking into to solve this if it comes up as a problem in the RNN network."
   ]
  },
  {
   "cell_type": "markdown",
   "id": "bf88eb45-dd25-4985-8a6c-97b9ed856065",
   "metadata": {},
   "source": [
    "### Create the RNN Model"
   ]
  },
  {
   "cell_type": "markdown",
   "id": "4ad05b0c-5eef-4195-91ef-1037b0c153b5",
   "metadata": {},
   "source": [
    "To evaluate the model, we will use a custom metric and backend methods to evaluate the loss and accuracy of both the training and validation.  Using the metric 'accuracy', we get the built in metric for the validation quality using the root mean squared error between the predicted value and the validation target data.\n",
    "\n",
    "$$ RMSE = \\sqrt{\\frac{\\sum_i(X_i - \\bar{X})^2}{n}} $$\n",
    "\n",
    "This is related to the mean squared error but the square root mean keeps the dimesionality of the vertical axis when finding the mean distance from the fit. (Say MSE gives $m^2$ for $m$ input, root mean squared gives $m$)"
   ]
  },
  {
   "cell_type": "code",
   "execution_count": 10,
   "id": "7f881631-6fb0-4e97-8f23-6c2f1b8e6d57",
   "metadata": {},
   "outputs": [],
   "source": [
    "def rmse(y_true, y_pred):\n",
    "    \"\"\" Custom metric to pass to the compiler for the model \"\"\"\n",
    "    return backend.sqrt(backend.mean(backend.square(y_pred - y_true), axis=-1))"
   ]
  },
  {
   "cell_type": "code",
   "execution_count": 11,
   "id": "b64e14dc-e3aa-449f-9c20-33e09af79c28",
   "metadata": {},
   "outputs": [
    {
     "name": "stdout",
     "output_type": "stream",
     "text": [
      "Model: \"sequential\"\n",
      "_________________________________________________________________\n",
      "Layer (type)                 Output Shape              Param #   \n",
      "=================================================================\n",
      "lstm (LSTM)                  (None, 100, 8)            384       \n",
      "_________________________________________________________________\n",
      "lstm_1 (LSTM)                (None, 64)                18688     \n",
      "_________________________________________________________________\n",
      "dense (Dense)                (None, 3)                 195       \n",
      "=================================================================\n",
      "Total params: 19,267\n",
      "Trainable params: 19,267\n",
      "Non-trainable params: 0\n",
      "_________________________________________________________________\n"
     ]
    }
   ],
   "source": [
    "\"\"\" Sequential RNN model \"\"\"\n",
    "# create the RNN layer:\n",
    "Model_RNN = Sequential()\n",
    "\n",
    "Model_RNN.add(LSTM(units=8, \n",
    "                   return_sequences=True, # true if using second LSTM layer\n",
    "                   input_shape=(lookback, 3),\n",
    "                   dropout=0.2)) # Recurrent Layer\n",
    "\n",
    "Model_RNN.add(LSTM(units=64, dropout=0.2))\n",
    "#Model_RNN.add(Dense(32, input_dim=3, activation=\"relu\")) # Fully connected layer\\\n",
    "Model_RNN.add(Dense(3, activation=\"linear\")) # Fully connected output layer\n",
    "\n",
    "opt = tf.keras.optimizers.Adam(lr=0.001, decay=1e-7)\n",
    "Model_RNN.compile(loss=rmse, optimizer=opt, metrics=[\"accuracy\"])\n",
    "Model_RNN.summary()"
   ]
  },
  {
   "cell_type": "markdown",
   "id": "98d78fef-0575-41fd-93d9-a6e6d3b38f98",
   "metadata": {},
   "source": [
    "### Train RNN Model"
   ]
  },
  {
   "cell_type": "code",
   "execution_count": 12,
   "id": "33416982-48bd-4cf9-a732-ff3a6dd3251f",
   "metadata": {
    "scrolled": true,
    "tags": []
   },
   "outputs": [
    {
     "name": "stdout",
     "output_type": "stream",
     "text": [
      "Train on 22400 samples, validate on 7300 samples\n",
      "Epoch 1/16\n",
      "22400/22400 [==============================] - 68s 3ms/sample - loss: 5.7131 - accuracy: 0.9857 - val_loss: 5.5767 - val_accuracy: 0.9929\n",
      "Epoch 2/16\n",
      "22400/22400 [==============================] - 64s 3ms/sample - loss: 2.8464 - accuracy: 0.9873 - val_loss: 3.4794 - val_accuracy: 0.9901\n",
      "Epoch 3/16\n",
      "22400/22400 [==============================] - 63s 3ms/sample - loss: 1.3477 - accuracy: 0.9942 - val_loss: 2.5244 - val_accuracy: 0.9886\n",
      "Epoch 4/16\n",
      "22400/22400 [==============================] - 62s 3ms/sample - loss: 0.8906 - accuracy: 0.9961 - val_loss: 2.0524 - val_accuracy: 0.9853\n",
      "Epoch 5/16\n",
      "22400/22400 [==============================] - 62s 3ms/sample - loss: 0.6885 - accuracy: 0.9967 - val_loss: 2.0854 - val_accuracy: 0.9834\n",
      "Epoch 6/16\n",
      "22400/22400 [==============================] - 66s 3ms/sample - loss: 0.5800 - accuracy: 0.9984 - val_loss: 2.5538 - val_accuracy: 0.9814\n",
      "Epoch 7/16\n",
      "22400/22400 [==============================] - 64s 3ms/sample - loss: 0.5380 - accuracy: 0.9987 - val_loss: 2.6834 - val_accuracy: 0.9849\n",
      "Epoch 8/16\n",
      "22400/22400 [==============================] - 61s 3ms/sample - loss: 0.4897 - accuracy: 0.9987 - val_loss: 2.4644 - val_accuracy: 0.9940\n",
      "Epoch 9/16\n",
      "22400/22400 [==============================] - 60s 3ms/sample - loss: 0.4575 - accuracy: 0.9988 - val_loss: 2.4231 - val_accuracy: 0.9940\n",
      "Epoch 10/16\n",
      "22400/22400 [==============================] - 68s 3ms/sample - loss: 0.4282 - accuracy: 0.9991 - val_loss: 2.6220 - val_accuracy: 0.9848\n",
      "Epoch 11/16\n",
      "22400/22400 [==============================] - 66s 3ms/sample - loss: 0.4170 - accuracy: 0.9988 - val_loss: 2.5635 - val_accuracy: 0.9863\n",
      "Epoch 12/16\n",
      "22400/22400 [==============================] - 60s 3ms/sample - loss: 0.3975 - accuracy: 0.9989 - val_loss: 2.6920 - val_accuracy: 0.9879\n",
      "Epoch 13/16\n",
      "22400/22400 [==============================] - 61s 3ms/sample - loss: 0.3857 - accuracy: 0.9987 - val_loss: 2.4782 - val_accuracy: 0.9932\n",
      "Epoch 14/16\n",
      "22400/22400 [==============================] - 59s 3ms/sample - loss: 0.3627 - accuracy: 0.9992 - val_loss: 2.7100 - val_accuracy: 0.9930\n",
      "Epoch 15/16\n",
      "22400/22400 [==============================] - 61s 3ms/sample - loss: 0.3570 - accuracy: 0.9990 - val_loss: 2.3095 - val_accuracy: 0.9929\n",
      "Epoch 16/16\n",
      "22400/22400 [==============================] - 60s 3ms/sample - loss: 0.3451 - accuracy: 0.9991 - val_loss: 2.5409 - val_accuracy: 0.9919\n",
      "dict_keys(['loss', 'accuracy', 'val_loss', 'val_accuracy'])\n"
     ]
    }
   ],
   "source": [
    "\"\"\" Train the model \"\"\"\n",
    "Model_fitted = Model_RNN.fit(trainInput, trainOutput,\n",
    "                             epochs=16,\n",
    "                             validation_data=(valInput,\n",
    "                                              valOutput\n",
    "                                             ),\n",
    "                             # Nicer output for so many Epochs\n",
    "                             verbose=1,\n",
    "                             #callbacks=[TqdmCallback(verbose=0)]\n",
    "                            )\n",
    "print(Model_fitted.history.keys())"
   ]
  },
  {
   "cell_type": "code",
   "execution_count": 13,
   "id": "68d3f723-8064-454d-8224-54630b769a92",
   "metadata": {},
   "outputs": [
    {
     "data": {
      "image/png": "[encoded data removed]",
      "text/plain": [
       "<Figure size 600x300 with 1 Axes>"
      ]
     },
     "metadata": {},
     "output_type": "display_data"
    }
   ],
   "source": [
    "training = Model_fitted.history['loss']\n",
    "validation = Model_fitted.history['val_loss']\n",
    "\n",
    "plt.figure(figsize=(6,3))\n",
    "plt.plot(validation, label=\"validation\")\n",
    "plt.plot(training, label=\"training\")\n",
    "plt.plot([0,len(training)],[validation[-1], validation[-1]], label=\"Last Epoch\", ls=\"--\")\n",
    "plt.yscale(\"log\")\n",
    "plt.title('Learning Curve using RMSE for each Epoch')\n",
    "plt.xlabel('Epoch'); plt.ylabel('RMSE')\n",
    "plt.legend(loc=0); plt.grid(ls=\"--\")"
   ]
  },
  {
   "cell_type": "markdown",
   "id": "c394a57d-d8d0-4619-bb20-41315a286297",
   "metadata": {},
   "source": [
    "With different neural network architectures with multiple LSTM layers, or adding a dense layer just before the output layer, the validation loss was having a hard time going below RMSE=2.0. Updating the hyperparameters (i.e. the number of cells in the LSTM), giving the model more complexity did not help reducing the validation loss.\n",
    "\n",
    "The LSTM layers may not have the capibilities for non-linear systems as the connection between different cells in note the same as dense layers. Another possibility is the training dataset does not have the variation it needs for generalization.\n",
    "\n",
    "Just from this, the perceptron network worked much better and also trained quite a bit faster."
   ]
  },
  {
   "cell_type": "code",
   "execution_count": null,
   "id": "cf39fa7c-6700-4774-89ca-bdc9fd7ad295",
   "metadata": {},
   "outputs": [],
   "source": []
  }
 ],
 "metadata": {
  "kernelspec": {
   "display_name": "Python 3",
   "language": "python",
   "name": "python3"
  },
  "language_info": {
   "codemirror_mode": {
    "name": "ipython",
    "version": 3
   },
   "file_extension": ".py",
   "mimetype": "text/x-python",
   "name": "python",
   "nbconvert_exporter": "python",
   "pygments_lexer": "ipython3",
   "version": "3.6.13"
  }
 },
 "nbformat": 4,
 "nbformat_minor": 5
}
