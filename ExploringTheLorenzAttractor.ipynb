{
 "cells": [
  {
   "cell_type": "markdown",
   "metadata": {},
   "source": [
    "# The Lorenz Attractor\n",
    "\n",
    "#### Patrick Harrison 3002363<hr>\n"
   ]
  },
  {
   "cell_type": "markdown",
   "metadata": {},
   "source": [
    "### Introduction\n",
    "\n",
    "The Lorenz attractor (butterfly) is one of the more famous chaotic systems in physics and can be calculated with the system of differential equations $\\mathcal{L}$ as\n",
    "\n",
    "\\begin{align}\n",
    "    \\mathcal{L}=\n",
    "    \\begin{cases}\n",
    "        \\dot{X} &= \\sigma(Y-X)\\\\\n",
    "        \\dot{Y} &= -XZ+\\rho X-Y\\\\\n",
    "        \\dot{Z} &= XY-\\beta Z\n",
    "    \\end{cases}\n",
    "\\end{align}\n",
    "\n",
    "here $\\sigma$, $\\rho$ and $\\beta$ are physical parameters. This system of equations is non-linear, deterministic and for certain parameters, the system is also non-periodic and chaotic. Lorenz used parameters:\n",
    "\\begin{align}\n",
    "    \\sigma=10 && \\rho=28 && \\beta=8/3\n",
    "\\end{align}\n",
    "It is found these and nearby parameters will reamin chaotic and non-periodic. [*]\n",
    "\n",
    "The problem here is that extracting the physical parameters given some data may not always be easy or obvious. If you knew the phsyical parameters the deterministic syustem could be solved and predicted. If say you are given a time series of states, can you predict the next states without knowing the physical parameters. This becomes a superivsed machine lenaring problem.\n",
    "\n",
    "This notebook walks through the Lorenz attractor and explores useful properties that may help when creating a nerual network.\n",
    "\n",
    "<hr> \n",
    "[*] Hirsch, Morris W.; Smale, Stephen; Devaney, Robert (2003). Differential Equations, Dynamical Systems, & An Introduction to Chaos (Second ed.). Boston, MA: Academic Press. ISBN 978-0-12-349703-1."
   ]
  },
  {
   "cell_type": "markdown",
   "metadata": {},
   "source": [
    "### Exploring The Lorenz Attractor\n",
    "\n",
    "Using numpy, scipy and matplotlib, The Lorenz attractor is easially calcualted for given physical parameters. See the Lorenz module for calculation. The states are numerically solved using `scipy.integrate.odeint` wich impliments a numerical jacobian solver for the system. "
   ]
  },
  {
   "cell_type": "code",
   "execution_count": 1,
   "metadata": {},
   "outputs": [],
   "source": [
    "import matplotlib.pyplot as plt\n",
    "from mpl_toolkits.mplot3d import Axes3D\n",
    "from matplotlib.gridspec import GridSpec\n",
    "import matplotlib.animation as animation\n",
    "\n",
    "# Use tk if sliders are not working in notebook\n",
    "%matplotlib widget\n",
    "\n",
    "import numpy as np\n",
    "from Lorenz import LorenzAttractor\n",
    "\n",
    "plt.style.use(\"astro\") # comment out if you dont have my astro mpl style sheet"
   ]
  },
  {
   "cell_type": "code",
   "execution_count": 2,
   "metadata": {},
   "outputs": [],
   "source": [
    "# Set up Lorenz attractor shape and initial parameters\n",
    "INITIALSTATE = (1.0, 1.0, 1.0)\n",
    "SIGMA = 10.0\n",
    "BETA = 8/3.0\n",
    "RHO = 28.0\n",
    "\n",
    "# Set integration time sequence for solveing\n",
    "tStart = 0.0\n",
    "tEnd = 30.0\n",
    "dt = 0.003\n",
    "\n",
    "t = np.arange(tStart, tEnd, dt)\n",
    "\n",
    "# Numerically solve\n",
    "LA = LorenzAttractor(t, INITIALSTATE, SIGMA, BETA, RHO)\n",
    "X, Y, Z = LA.get_states()"
   ]
  },
  {
   "cell_type": "code",
   "execution_count": 3,
   "metadata": {},
   "outputs": [
    {
     "name": "stdout",
     "output_type": "stream",
     "text": [
      " Lorenz Attractor: (s=10.0, b=2.6666666666666665, \n",
      "                    r=28.0), L0=(1.0, 1.0, 1.0)\n",
      "                \n"
     ]
    }
   ],
   "source": [
    "print(LA)"
   ]
  },
  {
   "cell_type": "markdown",
   "metadata": {},
   "source": [
    "The matplotlib sliders lets us explore how different physical parameters change the features in the shape. The critical points (definined for $\\rho>1$) are plotted in red as well."
   ]
  },
  {
   "cell_type": "code",
   "execution_count": 4,
   "metadata": {},
   "outputs": [
    {
     "data": {
      "application/vnd.jupyter.widget-view+json": {
       "model_id": "80e6f936b0c14448aeb7e4683d706581",
       "version_major": 2,
       "version_minor": 0
      },
      "text/plain": [
       "Canvas(toolbar=Toolbar(toolitems=[('Home', 'Reset original view', 'home', 'home'), ('Back', 'Back to previous …"
      ]
     },
     "metadata": {},
     "output_type": "display_data"
    }
   ],
   "source": [
    "fig, ax, sliders = LA.plot()"
   ]
  },
  {
   "cell_type": "markdown",
   "metadata": {},
   "source": [
    "Plotting the Lorenz attractor in physical space. Here we use an animation to make the chaotic nature of the trajectory clear. Again if the animation is not working try the `%matplotlib tk` magic command to plot in a seperate window."
   ]
  },
  {
   "cell_type": "markdown",
   "metadata": {},
   "source": [
    "Using a scipy library, the physical trajector is solved from the system of ordinary differential equations listed above. For the rest of this notebook, unless stated, our initial state will be $[x,y,z]=[1.0, 1.0, 1.0]$ with the following physical parameters.\n",
    "\n",
    "\\begin{align*}\n",
    "    \\sigma=10.0 && \\beta=\\frac{8}{3} && \\rho=28.0\n",
    "\\end{align*}\n",
    "These numbers (and numbers around these points) produce a chaotic attractor (strange attractor) [1]."
   ]
  },
  {
   "cell_type": "code",
   "execution_count": 5,
   "metadata": {},
   "outputs": [
    {
     "data": {
      "application/vnd.jupyter.widget-view+json": {
       "model_id": "d6d49b30c66548b5956dfc04170caa95",
       "version_major": 2,
       "version_minor": 0
      },
      "text/plain": [
       "Canvas(toolbar=Toolbar(toolitems=[('Home', 'Reset original view', 'home', 'home'), ('Back', 'Back to previous …"
      ]
     },
     "metadata": {},
     "output_type": "display_data"
    }
   ],
   "source": [
    "''' Animation of the Lorenz attractor '''\n",
    "\n",
    "#%matplotlib tk # animation in a tkinter window\n",
    "\n",
    "fig = plt.figure()\n",
    "ax = fig.gca(projection='3d')\n",
    "\n",
    "def initAnimation():\n",
    "    trajectory.set_data(X[0],Y[0])\n",
    "    trajectory.set_3d_properties(Z[0])\n",
    "    return trajectory,\n",
    "\n",
    "def animate(i):\n",
    "    trajectory.set_data(X[:i], Y[:i])\n",
    "    trajectory.set_3d_properties(Z[:i])\n",
    "    return trajectory,\n",
    "\n",
    "trajectory, = ax.plot(X[0], Y[0], Z[0], lw=0.75)\n",
    "# call the animator.\n",
    "anim = animation.FuncAnimation(fig, animate, init_func=initAnimation,\n",
    "                               frames=len(X), interval=10, blit=True, repeat=False)\n",
    "\n",
    "\n",
    "title = r\"Lorenz attractor: $\\sigma=${}, $\\beta=${}, $\\rho=${}\"\n",
    "ax.set_xlabel(\"X Axis\")\n",
    "ax.set_ylabel(\"Y Axis\")\n",
    "ax.set_zlabel(\"Z Axis\")\n",
    "ax.set_title(title.format(str(LA._sigma),str(LA._beta),str(LA._rho)))\n",
    "\n",
    "# For some reason matplotlib 3d projection is not \n",
    "# autochanging the bounds\n",
    "ax.set_xlim(-20, 20)\n",
    "ax.set_ylim(-30, 30)\n",
    "ax.set_zlim(0, 50)\n",
    "\n",
    "#ax.set_axis_off()\n",
    "plt.show()\n"
   ]
  },
  {
   "cell_type": "markdown",
   "metadata": {},
   "source": [
    "Small perterbations in physical parameters and initial conditions can drastically change the shape of the trajectory."
   ]
  },
  {
   "cell_type": "markdown",
   "metadata": {},
   "source": [
    "### Autocorrelation for maximum time lag"
   ]
  },
  {
   "cell_type": "code",
   "execution_count": 6,
   "metadata": {},
   "outputs": [],
   "source": [
    "def acf(x, length=20):\n",
    "    return np.array([1]+[np.corrcoef(x[:-i], x[i:])[0,1]  \\\n",
    "        for i in range(1, length)])"
   ]
  },
  {
   "cell_type": "code",
   "execution_count": 7,
   "metadata": {},
   "outputs": [
    {
     "data": {
      "application/vnd.jupyter.widget-view+json": {
       "model_id": "34cc9b78136a488f8d93fa6cb990dca7",
       "version_major": 2,
       "version_minor": 0
      },
      "text/plain": [
       "Canvas(toolbar=Toolbar(toolitems=[('Home', 'Reset original view', 'home', 'home'), ('Back', 'Back to previous …"
      ]
     },
     "metadata": {},
     "output_type": "display_data"
    }
   ],
   "source": [
    "fig, ax = plt.subplots(1, 1, figsize=plt.figaspect(.75))\n",
    "\n",
    "acX = acf(X, length=200)\n",
    "acY = acf(Y, length=200)\n",
    "acZ = acf(Z, length=200)\n",
    "\n",
    "lagX = np.where(acX == acX.min())[0][0]\n",
    "lagY = np.where(acY == acY.min())[0][0]\n",
    "lagZ = np.where(acZ == acZ.min())[0][0]\n",
    "\n",
    "ax.annotate(str(lagX), (lagX, acX.min()))\n",
    "ax.annotate(str(lagY), (lagY, acY.min()))\n",
    "ax.annotate(str(lagZ), (lagZ, acZ.min()))\n",
    "\n",
    "ax.plot(acX, label=\"X\")\n",
    "ax.plot(acY, label=\"Y\")\n",
    "ax.plot(acZ, label=\"Z\")\n",
    "\n",
    "ax.set_title(\"Autocorrelation for each dimenstion\")\n",
    "ax.set_xlabel(\"timelag\")\n",
    "ax.set_ylabel(\"Correlation Coefficient\")\n",
    "plt.legend()\n",
    "\n",
    "plt.show()"
   ]
  },
  {
   "cell_type": "code",
   "execution_count": 8,
   "metadata": {},
   "outputs": [
    {
     "name": "stdout",
     "output_type": "stream",
     "text": [
      "X first minimum correlation at: 163\n",
      "Y minimum correlation at: 138\n",
      "Z minimum correlation at: 120\n"
     ]
    }
   ],
   "source": [
    "print(\"X first minimum correlation at:\", lagX)\n",
    "print(\"Y minimum correlation at:\", lagY)\n",
    "print(\"Z minimum correlation at:\", lagZ)"
   ]
  },
  {
   "cell_type": "markdown",
   "metadata": {},
   "source": [
    "This shows how much effect the last states have on the current state. A time lag, when predicting a model, larger than the minimum coefficient, would not be effective as the correlation has passed a minimum."
   ]
  },
  {
   "cell_type": "markdown",
   "metadata": {},
   "source": [
    "Mutual information between the dimensions would also be interesting to look at and may help when deciding how to structure the Neural Network."
   ]
  },
  {
   "cell_type": "markdown",
   "metadata": {},
   "source": [
    "There is a couple of ideas that can be explored here. For example a time series prediction of the next steps of an attractor or a parameter estimation given the trajectory. Here a perceptron nerual network and a Recusive Neural Network is presented to give a prediction on the next states."
   ]
  }
 ],
 "metadata": {
  "kernelspec": {
   "display_name": "Python 3",
   "language": "python",
   "name": "python3"
  },
  "language_info": {
   "codemirror_mode": {
    "name": "ipython",
    "version": 3
   },
   "file_extension": ".py",
   "mimetype": "text/x-python",
   "name": "python",
   "nbconvert_exporter": "python",
   "pygments_lexer": "ipython3",
   "version": "3.6.13"
  }
 },
 "nbformat": 4,
 "nbformat_minor": 4
}
